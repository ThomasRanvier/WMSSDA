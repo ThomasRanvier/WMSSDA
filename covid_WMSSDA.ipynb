{
 "cells": [
  {
   "cell_type": "code",
   "execution_count": 1,
   "id": "a310465c",
   "metadata": {
    "ExecuteTime": {
     "end_time": "2023-01-20T15:49:20.322958Z",
     "start_time": "2023-01-20T15:49:19.104887Z"
    }
   },
   "outputs": [],
   "source": [
    "def warn(*args, **kwargs):\n",
    "    pass\n",
    "import warnings\n",
    "warnings.warn = warn\n",
    "\n",
    "import torch\n",
    "from torch.utils.data import TensorDataset, DataLoader\n",
    "import numpy as np\n",
    "from utils import datasets, utils\n",
    "import os\n",
    "import time\n",
    "\n",
    "from methods.covid import ours"
   ]
  },
  {
   "cell_type": "code",
   "execution_count": 2,
   "id": "219a8606",
   "metadata": {
    "ExecuteTime": {
     "end_time": "2023-01-20T15:49:20.331425Z",
     "start_time": "2023-01-20T15:49:20.324707Z"
    }
   },
   "outputs": [],
   "source": [
    "x_train, x_test, y_train, y_test, classes = datasets.load('covid')\n",
    "\n",
    "domains = x_train.keys()"
   ]
  },
  {
   "cell_type": "code",
   "execution_count": 3,
   "id": "d81fb075",
   "metadata": {
    "ExecuteTime": {
     "end_time": "2023-01-20T15:49:20.356597Z",
     "start_time": "2023-01-20T15:49:20.333407Z"
    }
   },
   "outputs": [
    {
     "name": "stdout",
     "output_type": "stream",
     "text": [
      "1 train (800, 17)\n",
      "(array([0, 1]), array([ 59, 741]))\n",
      "1 test (2000, 17)\n",
      "(array([0, 1]), array([ 160, 1840]))\n",
      "\n",
      "2 train (800, 17)\n",
      "(array([0, 1]), array([ 99, 701]))\n",
      "2 test (2000, 17)\n",
      "(array([0, 1]), array([ 259, 1741]))\n",
      "\n",
      "3 train (800, 17)\n",
      "(array([0, 1]), array([110, 690]))\n",
      "3 test (2000, 17)\n",
      "(array([0, 1]), array([ 277, 1723]))\n",
      "\n",
      "4 train (800, 17)\n",
      "(array([0, 1]), array([ 84, 716]))\n",
      "4 test (2000, 17)\n",
      "(array([0, 1]), array([ 216, 1784]))\n",
      "\n",
      "5 train (800, 17)\n",
      "(array([0, 1]), array([ 39, 761]))\n",
      "5 test (2000, 17)\n",
      "(array([0, 1]), array([  78, 1922]))\n",
      "\n"
     ]
    }
   ],
   "source": [
    "for domain in domains:\n",
    "    print(domain, 'train', x_train[domain].shape)\n",
    "    print(np.unique(y_train[domain], return_counts=True))\n",
    "    print(domain, 'test', x_test[domain].shape)\n",
    "    print(np.unique(y_test[domain], return_counts=True))\n",
    "    print()"
   ]
  },
  {
   "cell_type": "markdown",
   "id": "a0a56aab",
   "metadata": {},
   "source": [
    "## Parameters"
   ]
  },
  {
   "cell_type": "code",
   "execution_count": 4,
   "id": "41d43617",
   "metadata": {
    "ExecuteTime": {
     "end_time": "2023-01-20T15:49:20.394775Z",
     "start_time": "2023-01-20T15:49:20.358064Z"
    }
   },
   "outputs": [],
   "source": [
    "domain_t = '1'\n",
    "\n",
    "lr = 1e-5\n",
    "batch_size = 50\n",
    "epochs = 100\n",
    "m_params = (epochs, batch_size, lr, len(classes))\n",
    "evaluation_metrics = ['acc', 'bal_acc', 'auc', 'f1']"
   ]
  },
  {
   "cell_type": "markdown",
   "id": "769a83ea",
   "metadata": {},
   "source": [
    "## Select source domains"
   ]
  },
  {
   "cell_type": "code",
   "execution_count": 5,
   "id": "0dbef00b",
   "metadata": {
    "ExecuteTime": {
     "end_time": "2023-01-20T15:49:20.411273Z",
     "start_time": "2023-01-20T15:49:20.398018Z"
    }
   },
   "outputs": [],
   "source": [
    "x_sources, y_sources = {}, {}\n",
    "for domain_s in domains:\n",
    "    if domain_s != domain_t:\n",
    "        x_sources[domain_s] = x_train[domain_s]\n",
    "        y_sources[domain_s] = y_train[domain_s]"
   ]
  },
  {
   "cell_type": "markdown",
   "id": "55372a29",
   "metadata": {},
   "source": [
    "## Method execution"
   ]
  },
  {
   "cell_type": "code",
   "execution_count": 6,
   "id": "dda0abad",
   "metadata": {
    "ExecuteTime": {
     "end_time": "2023-01-20T15:52:42.729422Z",
     "start_time": "2023-01-20T15:49:20.414119Z"
    }
   },
   "outputs": [
    {
     "name": "stdout",
     "output_type": "stream",
     "text": [
      "Epoch 1/100 - Time elapsed 00:00:01\n",
      "Epoch 10/100 - Time elapsed 00:00:08\n",
      "Epoch 20/100 - Time elapsed 00:00:14\n",
      "Epoch 30/100 - Time elapsed 00:00:20\n",
      "Epoch 40/100 - Time elapsed 00:00:26\n",
      "Epoch 50/100 - Time elapsed 00:00:32\n",
      "Epoch 60/100 - Time elapsed 00:00:38\n",
      "Epoch 70/100 - Time elapsed 00:00:44\n",
      "Epoch 80/100 - Time elapsed 00:00:49\n",
      "Epoch 90/100 - Time elapsed 00:00:55\n",
      "Epoch 100/100 - Time elapsed 00:01:00\n"
     ]
    }
   ],
   "source": [
    "## Instantiate method\n",
    "method = ours.Method(*m_params)\n",
    "\n",
    "## Train method\n",
    "method.train(x_sources, y_sources, x_train[domain_t], y_train[domain_t], domain_t=domain_t)\n",
    "\n",
    "## Obtain predictions from trained method on target domain test set\n",
    "y_probas = method.predict(x_test[domain_t])\n",
    "\n",
    "## Eval results given evaluation metrics\n",
    "met = utils.eval_results(y_probas, y_test[domain_t], evaluation_metrics)"
   ]
  },
  {
   "cell_type": "code",
   "execution_count": 8,
   "id": "c15778c1-1513-4dec-b43c-234db57a931d",
   "metadata": {},
   "outputs": [
    {
     "data": {
      "text/plain": [
       "{'acc': 84.35000000000001,\n",
       " 'bal_acc': 88.6413043478261,\n",
       " 'auc': 94.40743885869564,\n",
       " 'f1': 87.41325218629335}"
      ]
     },
     "execution_count": 8,
     "metadata": {},
     "output_type": "execute_result"
    }
   ],
   "source": [
    "met"
   ]
  }
 ],
 "metadata": {
  "kernelspec": {
   "display_name": "Python 3 (ipykernel)",
   "language": "python",
   "name": "python3"
  },
  "language_info": {
   "codemirror_mode": {
    "name": "ipython",
    "version": 3
   },
   "file_extension": ".py",
   "mimetype": "text/x-python",
   "name": "python",
   "nbconvert_exporter": "python",
   "pygments_lexer": "ipython3",
   "version": "3.10.9"
  },
  "latex_envs": {
   "LaTeX_envs_menu_present": true,
   "autoclose": false,
   "autocomplete": true,
   "bibliofile": "biblio.bib",
   "cite_by": "apalike",
   "current_citInitial": 1,
   "eqLabelWithNumbers": true,
   "eqNumInitial": 1,
   "hotkeys": {
    "equation": "Ctrl-E",
    "itemize": "Ctrl-I"
   },
   "labels_anchors": false,
   "latex_user_defs": false,
   "report_style_numbering": false,
   "user_envs_cfg": false
  }
 },
 "nbformat": 4,
 "nbformat_minor": 5
}
