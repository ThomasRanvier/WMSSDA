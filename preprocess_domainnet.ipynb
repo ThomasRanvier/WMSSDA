{
 "cells": [
  {
   "cell_type": "code",
   "execution_count": 1,
   "id": "793aacfd",
   "metadata": {
    "ExecuteTime": {
     "end_time": "2023-01-10T08:49:20.386253Z",
     "start_time": "2023-01-10T08:49:20.134548Z"
    }
   },
   "outputs": [],
   "source": [
    "import pandas as pd\n",
    "import numpy as np\n",
    "import pickle\n",
    "import os\n",
    "from PIL import Image"
   ]
  },
  {
   "cell_type": "code",
   "execution_count": 2,
   "id": "fe91a7a0",
   "metadata": {
    "ExecuteTime": {
     "end_time": "2023-01-10T08:49:20.390711Z",
     "start_time": "2023-01-10T08:49:20.387706Z"
    }
   },
   "outputs": [],
   "source": [
    "DATA_FOLDER = 'data/domainnet/'"
   ]
  },
  {
   "cell_type": "code",
   "execution_count": 3,
   "id": "67572e81",
   "metadata": {
    "ExecuteTime": {
     "end_time": "2023-01-10T08:49:20.421702Z",
     "start_time": "2023-01-10T08:49:20.392355Z"
    }
   },
   "outputs": [],
   "source": [
    "domains = [\n",
    "    'clipart',\n",
    "    'infograph',\n",
    "    'painting',\n",
    "    'real',\n",
    "    'sketch',\n",
    "    'quickdraw',\n",
    "]\n",
    "\n",
    "min_samples_per_class = 180"
   ]
  },
  {
   "cell_type": "code",
   "execution_count": 4,
   "id": "f29e5a6d",
   "metadata": {
    "ExecuteTime": {
     "end_time": "2023-01-10T08:49:20.674105Z",
     "start_time": "2023-01-10T08:49:20.424731Z"
    }
   },
   "outputs": [
    {
     "data": {
      "text/plain": [
       "['bird',\n",
       " 'whale',\n",
       " 'circle',\n",
       " 'suitcase',\n",
       " 'squirrel',\n",
       " 'feather',\n",
       " 'strawberry',\n",
       " 'triangle',\n",
       " 'teapot',\n",
       " 'sea_turtle',\n",
       " 'bread',\n",
       " 'windmill',\n",
       " 'zebra',\n",
       " 'submarine',\n",
       " 'tiger',\n",
       " 'headphones',\n",
       " 'shark']"
      ]
     },
     "execution_count": 4,
     "metadata": {},
     "output_type": "execute_result"
    }
   ],
   "source": [
    "## We only select the most represented classes accross all domains\n",
    "\n",
    "classes = []\n",
    "for i, domain in enumerate(domains):\n",
    "    domain_folder = DATA_FOLDER + domain\n",
    "    if i == 0:\n",
    "        classes = os.listdir(domain_folder)\n",
    "    for cla in os.listdir(domain_folder):\n",
    "        class_folder = domain_folder + '/' + cla\n",
    "        n_samples_in_class = len(os.listdir(class_folder))\n",
    "        if cla in classes and n_samples_in_class < min_samples_per_class:\n",
    "            classes.remove(cla)\n",
    "\n",
    "classes"
   ]
  },
  {
   "cell_type": "code",
   "execution_count": 5,
   "id": "b4cd56e4",
   "metadata": {
    "ExecuteTime": {
     "end_time": "2023-01-10T08:49:20.679403Z",
     "start_time": "2023-01-10T08:49:20.675441Z"
    }
   },
   "outputs": [],
   "source": [
    "def preprocess_image(image_filename, img_size=(32, 32)):\n",
    "    with open(image_filename, 'rb') as f:\n",
    "        with Image.open(f) as img:\n",
    "            preprocessed_image = img.convert('RGB').resize(img_size)\n",
    "    return np.array(preprocessed_image)"
   ]
  },
  {
   "cell_type": "code",
   "execution_count": 6,
   "id": "c71765f3",
   "metadata": {
    "ExecuteTime": {
     "end_time": "2023-01-10T08:53:15.136209Z",
     "start_time": "2023-01-10T08:49:20.680626Z"
    }
   },
   "outputs": [],
   "source": [
    "x_train, x_test, y_train, y_test = {}, {}, {}, {}\n",
    "\n",
    "for domain in domains:\n",
    "    domain_folder = DATA_FOLDER + domain\n",
    "    x_train[domain], x_test[domain], y_train[domain], y_test[domain] = [], [], [], []\n",
    "    for i, cla in enumerate(classes):\n",
    "        class_folder = domain_folder + '/' + cla\n",
    "        for j, image_filename in enumerate(os.listdir(class_folder)):\n",
    "            if j < min_samples_per_class:\n",
    "                img = preprocess_image(domain_folder + '/' + cla + '/' + image_filename)\n",
    "                if j < min_samples_per_class // 3:\n",
    "                    x_test[domain].append(img)\n",
    "                    y_test[domain].append(i)\n",
    "                else:\n",
    "                    x_train[domain].append(img)\n",
    "                    y_train[domain].append(i)\n",
    "    x_train[domain] = np.moveaxis(np.array(x_train[domain]).astype(float), -1, 1)\n",
    "    x_test[domain] = np.moveaxis(np.array(x_test[domain]).astype(float), -1, 1)\n",
    "    y_train[domain], y_test[domain] = np.array(y_train[domain]), np.array(y_test[domain])"
   ]
  },
  {
   "cell_type": "code",
   "execution_count": 7,
   "id": "3299090b",
   "metadata": {
    "ExecuteTime": {
     "end_time": "2023-01-10T08:53:18.828768Z",
     "start_time": "2023-01-10T08:53:15.138545Z"
    }
   },
   "outputs": [],
   "source": [
    "with open(DATA_FOLDER + 'preprocessed_domainnet.pickle', 'wb') as handle:\n",
    "    pickle.dump((x_train, x_test, y_train, y_test), handle, protocol=pickle.HIGHEST_PROTOCOL)"
   ]
  }
 ],
 "metadata": {
  "kernelspec": {
   "display_name": "Python 3 (ipykernel)",
   "language": "python",
   "name": "python3"
  },
  "language_info": {
   "codemirror_mode": {
    "name": "ipython",
    "version": 3
   },
   "file_extension": ".py",
   "mimetype": "text/x-python",
   "name": "python",
   "nbconvert_exporter": "python",
   "pygments_lexer": "ipython3",
   "version": "3.10.9"
  },
  "latex_envs": {
   "LaTeX_envs_menu_present": true,
   "autoclose": false,
   "autocomplete": true,
   "bibliofile": "biblio.bib",
   "cite_by": "apalike",
   "current_citInitial": 1,
   "eqLabelWithNumbers": true,
   "eqNumInitial": 1,
   "hotkeys": {
    "equation": "Ctrl-E",
    "itemize": "Ctrl-I"
   },
   "labels_anchors": false,
   "latex_user_defs": false,
   "report_style_numbering": false,
   "user_envs_cfg": false
  }
 },
 "nbformat": 4,
 "nbformat_minor": 5
}
