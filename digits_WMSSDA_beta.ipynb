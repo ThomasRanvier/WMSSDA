{
 "cells": [
  {
   "cell_type": "code",
   "execution_count": 1,
   "id": "a310465c",
   "metadata": {
    "ExecuteTime": {
     "end_time": "2023-01-20T16:31:03.476415Z",
     "start_time": "2023-01-20T16:31:02.147166Z"
    }
   },
   "outputs": [],
   "source": [
    "def warn(*args, **kwargs):\n",
    "    pass\n",
    "import warnings\n",
    "warnings.warn = warn\n",
    "\n",
    "import torch\n",
    "from torch.utils.data import TensorDataset, DataLoader\n",
    "import numpy as np\n",
    "from utils import datasets, utils\n",
    "import os\n",
    "import time\n",
    "\n",
    "from methods.digits import ours_beta"
   ]
  },
  {
   "cell_type": "code",
   "execution_count": 2,
   "id": "219a8606",
   "metadata": {
    "ExecuteTime": {
     "end_time": "2023-01-20T16:31:29.306351Z",
     "start_time": "2023-01-20T16:31:03.477943Z"
    }
   },
   "outputs": [],
   "source": [
    "x_train, x_test, y_train, y_test, classes = datasets.load('digits',\n",
    "                                                          imbalance=datasets.HIGH_IMBALANCE_AMOUNTS_DIGITS_DIFFERENT_PY)\n",
    "\n",
    "domains = x_train.keys()"
   ]
  },
  {
   "cell_type": "code",
   "execution_count": 3,
   "id": "d81fb075",
   "metadata": {
    "ExecuteTime": {
     "end_time": "2023-01-20T16:31:29.324523Z",
     "start_time": "2023-01-20T16:31:29.309255Z"
    }
   },
   "outputs": [
    {
     "name": "stdout",
     "output_type": "stream",
     "text": [
      "mnist train (2370, 3, 28, 28)\n",
      "(array([0, 1, 2, 3, 4, 5, 6, 7, 8, 9]), array([500, 500, 500, 500, 200, 100,  40,  10,  10,  10]))\n",
      "mnist test (10000, 3, 28, 28)\n",
      "(array([0, 1, 2, 3, 4, 5, 6, 7, 8, 9]), array([ 980, 1135, 1032, 1010,  982,  892,  958, 1028,  974, 1009]))\n",
      "\n",
      "mnistm train (2370, 3, 28, 28)\n",
      "(array([0, 1, 2, 3, 4, 5, 6, 7, 8, 9]), array([ 10, 200, 100, 500,  40, 500,  10, 500, 500,  10]))\n",
      "mnistm test (10000, 3, 28, 28)\n",
      "(array([0, 1, 2, 3, 4, 5, 6, 7, 8, 9]), array([ 980, 1135, 1032, 1010,  982,  892,  958, 1028,  974, 1009]))\n",
      "\n",
      "svhn train (2370, 3, 32, 32)\n",
      "(array([0, 1, 2, 3, 4, 5, 6, 7, 8, 9]), array([200,  10,  10, 500, 500, 100,  40,  10, 500, 500]))\n",
      "svhn test (26032, 3, 32, 32)\n",
      "(array([0, 1, 2, 3, 4, 5, 6, 7, 8, 9]), array([1744, 5099, 4149, 2882, 2523, 2384, 1977, 2019, 1660, 1595]))\n",
      "\n",
      "syn train (2370, 3, 32, 32)\n",
      "(array([0, 1, 2, 3, 4, 5, 6, 7, 8, 9]), array([500, 100, 500,  10,  10,  10, 500, 500,  40, 200]))\n",
      "syn test (9553, 3, 32, 32)\n",
      "(array([0, 1, 2, 3, 4, 5, 6, 7, 8, 9]), array([ 950,  968,  921,  883,  939,  955, 1016,  992,  979,  950]))\n",
      "\n",
      "usps train (2370, 3, 28, 28)\n",
      "(array([0, 1, 2, 3, 4, 5, 6, 7, 8, 9]), array([ 10, 200,  10,  10, 100, 500, 500, 500,  40, 500]))\n",
      "usps test (1860, 3, 28, 28)\n",
      "(array([0, 1, 2, 3, 4, 5, 6, 7, 8, 9]), array([324, 250, 196, 151, 172, 142, 157, 160, 138, 170]))\n",
      "\n"
     ]
    }
   ],
   "source": [
    "for domain in domains:\n",
    "    print(domain, 'train', x_train[domain].shape)\n",
    "    print(np.unique(y_train[domain], return_counts=True))\n",
    "    print(domain, 'test', x_test[domain].shape)\n",
    "    print(np.unique(y_test[domain], return_counts=True))\n",
    "    print()"
   ]
  },
  {
   "cell_type": "markdown",
   "id": "a0a56aab",
   "metadata": {},
   "source": [
    "## Parameters"
   ]
  },
  {
   "cell_type": "code",
   "execution_count": 4,
   "id": "41d43617",
   "metadata": {
    "ExecuteTime": {
     "end_time": "2023-01-20T16:31:29.361960Z",
     "start_time": "2023-01-20T16:31:29.325827Z"
    }
   },
   "outputs": [],
   "source": [
    "domain_t = 'mnist'\n",
    "\n",
    "lr = 1e-4\n",
    "batch_size = 128\n",
    "epochs = 150\n",
    "m_params = (epochs, batch_size, lr, 3, len(classes))\n",
    "evaluation_metrics = ['acc', 'bal_acc', 'auc', 'f1']"
   ]
  },
  {
   "cell_type": "markdown",
   "id": "4b77880a",
   "metadata": {},
   "source": [
    "## Select source domains"
   ]
  },
  {
   "cell_type": "code",
   "execution_count": 5,
   "id": "5b3281d0",
   "metadata": {
    "ExecuteTime": {
     "end_time": "2023-01-20T16:31:29.404435Z",
     "start_time": "2023-01-20T16:31:29.365546Z"
    }
   },
   "outputs": [],
   "source": [
    "x_sources, y_sources = {}, {}\n",
    "for domain_s in domains:\n",
    "    if domain_s != domain_t:\n",
    "        x_sources[domain_s] = x_train[domain_s]\n",
    "        y_sources[domain_s] = y_train[domain_s]"
   ]
  },
  {
   "cell_type": "markdown",
   "id": "55372a29",
   "metadata": {},
   "source": [
    "## Method execution"
   ]
  },
  {
   "cell_type": "code",
   "execution_count": 6,
   "id": "bd612cd6",
   "metadata": {
    "ExecuteTime": {
     "end_time": "2023-01-20T16:40:14.499546Z",
     "start_time": "2023-01-20T16:31:29.407527Z"
    }
   },
   "outputs": [
    {
     "name": "stdout",
     "output_type": "stream",
     "text": [
      "Epoch 1/150 - Time elapsed 00:00:04\n",
      "Epoch 10/150 - Time elapsed 00:00:28\n",
      "Epoch 20/150 - Time elapsed 00:00:54\n",
      "Epoch 30/150 - Time elapsed 00:01:18\n",
      "Epoch 40/150 - Time elapsed 00:01:44\n",
      "Epoch 50/150 - Time elapsed 00:02:08\n",
      "Epoch 60/150 - Time elapsed 00:02:31\n",
      "Epoch 70/150 - Time elapsed 00:02:56\n",
      "Epoch 80/150 - Time elapsed 00:03:22\n",
      "Epoch 90/150 - Time elapsed 00:03:45\n",
      "Epoch 100/150 - Time elapsed 00:04:10\n",
      "Epoch 110/150 - Time elapsed 00:04:35\n",
      "Epoch 120/150 - Time elapsed 00:05:01\n",
      "Epoch 130/150 - Time elapsed 00:05:28\n",
      "Epoch 140/150 - Time elapsed 00:05:54\n",
      "Epoch 150/150 - Time elapsed 00:06:18\n"
     ]
    }
   ],
   "source": [
    "## Instantiate method\n",
    "method = ours_beta.Method(*m_params)\n",
    "\n",
    "## Train method\n",
    "method.train(x_sources, y_sources, x_train[domain_t], y_train[domain_t], domain_t=domain_t)\n",
    "\n",
    "## Obtain predictions from trained method on target domain test set\n",
    "y_probas = method.predict(x_test[domain_t])\n",
    "\n",
    "## Eval results given evaluation metrics\n",
    "met = utils.eval_results(y_probas, y_test[domain_t], evaluation_metrics)"
   ]
  },
  {
   "cell_type": "code",
   "execution_count": 7,
   "id": "53d794dc",
   "metadata": {
    "ExecuteTime": {
     "end_time": "2023-01-20T16:40:14.508986Z",
     "start_time": "2023-01-20T16:40:14.501639Z"
    }
   },
   "outputs": [
    {
     "data": {
      "text/plain": [
       "{'acc': 94.1,\n",
       " 'bal_acc': 94.0846800722144,\n",
       " 'auc': 99.8618771859756,\n",
       " 'f1': 93.95243334841766}"
      ]
     },
     "execution_count": 7,
     "metadata": {},
     "output_type": "execute_result"
    }
   ],
   "source": [
    "met"
   ]
  }
 ],
 "metadata": {
  "kernelspec": {
   "display_name": "Python 3 (ipykernel)",
   "language": "python",
   "name": "python3"
  },
  "language_info": {
   "codemirror_mode": {
    "name": "ipython",
    "version": 3
   },
   "file_extension": ".py",
   "mimetype": "text/x-python",
   "name": "python",
   "nbconvert_exporter": "python",
   "pygments_lexer": "ipython3",
   "version": "3.10.9"
  },
  "latex_envs": {
   "LaTeX_envs_menu_present": true,
   "autoclose": false,
   "autocomplete": true,
   "bibliofile": "biblio.bib",
   "cite_by": "apalike",
   "current_citInitial": 1,
   "eqLabelWithNumbers": true,
   "eqNumInitial": 1,
   "hotkeys": {
    "equation": "Ctrl-E",
    "itemize": "Ctrl-I"
   },
   "labels_anchors": false,
   "latex_user_defs": false,
   "report_style_numbering": false,
   "user_envs_cfg": false
  }
 },
 "nbformat": 4,
 "nbformat_minor": 5
}
