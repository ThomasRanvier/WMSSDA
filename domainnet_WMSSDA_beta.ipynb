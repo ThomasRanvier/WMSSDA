{
 "cells": [
  {
   "cell_type": "code",
   "execution_count": 1,
   "id": "a310465c",
   "metadata": {
    "ExecuteTime": {
     "end_time": "2023-01-20T16:30:56.402809Z",
     "start_time": "2023-01-20T16:30:55.177371Z"
    }
   },
   "outputs": [],
   "source": [
    "def warn(*args, **kwargs):\n",
    "    pass\n",
    "import warnings\n",
    "warnings.warn = warn\n",
    "\n",
    "import torch\n",
    "from torch.utils.data import TensorDataset, DataLoader\n",
    "import numpy as np\n",
    "from utils import datasets, utils\n",
    "import os\n",
    "import time\n",
    "\n",
    "from methods.digits import ours_beta"
   ]
  },
  {
   "cell_type": "code",
   "execution_count": 2,
   "id": "219a8606",
   "metadata": {
    "ExecuteTime": {
     "end_time": "2023-01-20T16:30:57.275913Z",
     "start_time": "2023-01-20T16:30:56.404174Z"
    }
   },
   "outputs": [],
   "source": [
    "x_train, x_test, y_train, y_test, classes = datasets.load('domainnet',\n",
    "                                                          imbalance=datasets.IMBALANCE_AMOUNTS_DOMAINNET_DIFFERENT_PY)\n",
    "\n",
    "domains = x_train.keys()"
   ]
  },
  {
   "cell_type": "code",
   "execution_count": 3,
   "id": "d81fb075",
   "metadata": {
    "ExecuteTime": {
     "end_time": "2023-01-20T16:30:57.287241Z",
     "start_time": "2023-01-20T16:30:57.277952Z"
    }
   },
   "outputs": [
    {
     "name": "stdout",
     "output_type": "stream",
     "text": [
      "clipart train (900, 3, 32, 32)\n",
      "(array([ 0,  1,  2,  3,  4,  5,  6,  7,  8,  9, 10, 11, 12, 13, 14, 15, 16],\n",
      "      dtype=int32), array([120, 120, 120, 120,  80,  60,  60,  40,  40,  25,  25,  25,  25,\n",
      "        10,  10,  10,  10]))\n",
      "clipart test (1020, 3, 32, 32)\n",
      "(array([ 0,  1,  2,  3,  4,  5,  6,  7,  8,  9, 10, 11, 12, 13, 14, 15, 16],\n",
      "      dtype=int32), array([60, 60, 60, 60, 60, 60, 60, 60, 60, 60, 60, 60, 60, 60, 60, 60, 60]))\n",
      "\n",
      "infograph train (900, 3, 32, 32)\n",
      "(array([ 0,  1,  2,  3,  4,  5,  6,  7,  8,  9, 10, 11, 12, 13, 14, 15, 16],\n",
      "      dtype=int32), array([ 60,  25,  40, 120, 120,  25,  60,  40, 120,  25,  10,  80,  25,\n",
      "        10,  10, 120,  10]))\n",
      "infograph test (1020, 3, 32, 32)\n",
      "(array([ 0,  1,  2,  3,  4,  5,  6,  7,  8,  9, 10, 11, 12, 13, 14, 15, 16],\n",
      "      dtype=int32), array([60, 60, 60, 60, 60, 60, 60, 60, 60, 60, 60, 60, 60, 60, 60, 60, 60]))\n",
      "\n",
      "painting train (900, 3, 32, 32)\n",
      "(array([ 0,  1,  2,  3,  4,  5,  6,  7,  8,  9, 10, 11, 12, 13, 14, 15, 16],\n",
      "      dtype=int32), array([120,  10,  10,  40, 120,  25,  10,  60,  25,  40, 120,  60,  10,\n",
      "        80,  25,  25, 120]))\n",
      "painting test (1020, 3, 32, 32)\n",
      "(array([ 0,  1,  2,  3,  4,  5,  6,  7,  8,  9, 10, 11, 12, 13, 14, 15, 16],\n",
      "      dtype=int32), array([60, 60, 60, 60, 60, 60, 60, 60, 60, 60, 60, 60, 60, 60, 60, 60, 60]))\n",
      "\n",
      "real train (900, 3, 32, 32)\n",
      "(array([ 0,  1,  2,  3,  4,  5,  6,  7,  8,  9, 10, 11, 12, 13, 14, 15, 16],\n",
      "      dtype=int32), array([120,  10,  25,  40,  25,  10,  25,  25,  60, 120, 120,  40,  60,\n",
      "       120,  80,  10,  10]))\n",
      "real test (1020, 3, 32, 32)\n",
      "(array([ 0,  1,  2,  3,  4,  5,  6,  7,  8,  9, 10, 11, 12, 13, 14, 15, 16],\n",
      "      dtype=int32), array([60, 60, 60, 60, 60, 60, 60, 60, 60, 60, 60, 60, 60, 60, 60, 60, 60]))\n",
      "\n",
      "sketch train (900, 3, 32, 32)\n",
      "(array([ 0,  1,  2,  3,  4,  5,  6,  7,  8,  9, 10, 11, 12, 13, 14, 15, 16],\n",
      "      dtype=int32), array([ 60,  25,  10, 120,  10,  40,  40,  10, 120, 120, 120,  25,  80,\n",
      "        25,  25,  10,  60]))\n",
      "sketch test (1020, 3, 32, 32)\n",
      "(array([ 0,  1,  2,  3,  4,  5,  6,  7,  8,  9, 10, 11, 12, 13, 14, 15, 16],\n",
      "      dtype=int32), array([60, 60, 60, 60, 60, 60, 60, 60, 60, 60, 60, 60, 60, 60, 60, 60, 60]))\n",
      "\n",
      "quickdraw train (900, 3, 32, 32)\n",
      "(array([ 0,  1,  2,  3,  4,  5,  6,  7,  8,  9, 10, 11, 12, 13, 14, 15, 16],\n",
      "      dtype=int32), array([ 40,  60,  25,  10, 120,  10,  40,  10, 120,  25, 120,  25, 120,\n",
      "        80,  25,  10,  60]))\n",
      "quickdraw test (1020, 3, 32, 32)\n",
      "(array([ 0,  1,  2,  3,  4,  5,  6,  7,  8,  9, 10, 11, 12, 13, 14, 15, 16],\n",
      "      dtype=int32), array([60, 60, 60, 60, 60, 60, 60, 60, 60, 60, 60, 60, 60, 60, 60, 60, 60]))\n",
      "\n"
     ]
    }
   ],
   "source": [
    "for domain in domains:\n",
    "    print(domain, 'train', x_train[domain].shape)\n",
    "    print(np.unique(y_train[domain], return_counts=True))\n",
    "    print(domain, 'test', x_test[domain].shape)\n",
    "    print(np.unique(y_test[domain], return_counts=True))\n",
    "    print()"
   ]
  },
  {
   "cell_type": "markdown",
   "id": "a0a56aab",
   "metadata": {},
   "source": [
    "## Parameters"
   ]
  },
  {
   "cell_type": "code",
   "execution_count": 4,
   "id": "41d43617",
   "metadata": {
    "ExecuteTime": {
     "end_time": "2023-01-20T16:30:57.333663Z",
     "start_time": "2023-01-20T16:30:57.288316Z"
    }
   },
   "outputs": [],
   "source": [
    "domain_t = 'quickdraw'\n",
    "\n",
    "lr = 1e-4\n",
    "batch_size = 50\n",
    "epochs = 200\n",
    "m_params = (epochs, batch_size, lr, 3, len(classes))\n",
    "evaluation_metrics = ['acc', 'bal_acc', 'auc', 'f1']"
   ]
  },
  {
   "cell_type": "markdown",
   "id": "4b77880a",
   "metadata": {},
   "source": [
    "## Select source domains"
   ]
  },
  {
   "cell_type": "code",
   "execution_count": 5,
   "id": "5b3281d0",
   "metadata": {
    "ExecuteTime": {
     "end_time": "2023-01-20T16:30:57.351627Z",
     "start_time": "2023-01-20T16:30:57.337302Z"
    }
   },
   "outputs": [],
   "source": [
    "x_sources, y_sources = {}, {}\n",
    "for domain_s in domains:\n",
    "    if domain_s != domain_t:\n",
    "        x_sources[domain_s] = x_train[domain_s]\n",
    "        y_sources[domain_s] = y_train[domain_s]"
   ]
  },
  {
   "cell_type": "markdown",
   "id": "55372a29",
   "metadata": {},
   "source": [
    "## Method execution"
   ]
  },
  {
   "cell_type": "code",
   "execution_count": 6,
   "id": "bd612cd6",
   "metadata": {
    "ExecuteTime": {
     "end_time": "2023-01-20T16:43:14.334863Z",
     "start_time": "2023-01-20T16:30:57.354321Z"
    }
   },
   "outputs": [
    {
     "name": "stdout",
     "output_type": "stream",
     "text": [
      "Epoch 1/200 - Time elapsed 00:00:05\n",
      "Epoch 10/200 - Time elapsed 00:00:37\n",
      "Epoch 20/200 - Time elapsed 00:01:06\n",
      "Epoch 30/200 - Time elapsed 00:01:39\n",
      "Epoch 40/200 - Time elapsed 00:02:11\n",
      "Epoch 50/200 - Time elapsed 00:02:44\n",
      "Epoch 60/200 - Time elapsed 00:03:15\n",
      "Epoch 70/200 - Time elapsed 00:03:46\n",
      "Epoch 80/200 - Time elapsed 00:04:18\n",
      "Epoch 90/200 - Time elapsed 00:04:50\n",
      "Epoch 100/200 - Time elapsed 00:05:21\n",
      "Epoch 110/200 - Time elapsed 00:05:53\n",
      "Epoch 120/200 - Time elapsed 00:06:25\n",
      "Epoch 130/200 - Time elapsed 00:06:57\n",
      "Epoch 140/200 - Time elapsed 00:07:27\n",
      "Epoch 150/200 - Time elapsed 00:07:55\n",
      "Epoch 160/200 - Time elapsed 00:08:23\n",
      "Epoch 170/200 - Time elapsed 00:08:51\n",
      "Epoch 180/200 - Time elapsed 00:09:19\n",
      "Epoch 190/200 - Time elapsed 00:09:48\n",
      "Epoch 200/200 - Time elapsed 00:10:15\n"
     ]
    }
   ],
   "source": [
    "## Instantiate method\n",
    "method = ours_beta.Method(*m_params)\n",
    "\n",
    "## Train method\n",
    "method.train(x_sources, y_sources, x_train[domain_t], y_train[domain_t], domain_t=domain_t)\n",
    "\n",
    "## Obtain predictions from trained method on target domain test set\n",
    "y_probas = method.predict(x_test[domain_t])\n",
    "\n",
    "## Eval results given evaluation metrics\n",
    "met = utils.eval_results(y_probas, y_test[domain_t], evaluation_metrics)"
   ]
  },
  {
   "cell_type": "code",
   "execution_count": 7,
   "id": "53d794dc",
   "metadata": {
    "ExecuteTime": {
     "end_time": "2023-01-20T16:43:14.345461Z",
     "start_time": "2023-01-20T16:43:14.337379Z"
    }
   },
   "outputs": [
    {
     "data": {
      "text/plain": [
       "{'acc': 39.01960784313726,\n",
       " 'bal_acc': 39.01960784313725,\n",
       " 'auc': 86.35008169934642,\n",
       " 'f1': 33.81203171253332}"
      ]
     },
     "execution_count": 7,
     "metadata": {},
     "output_type": "execute_result"
    }
   ],
   "source": [
    "met"
   ]
  }
 ],
 "metadata": {
  "kernelspec": {
   "display_name": "Python 3 (ipykernel)",
   "language": "python",
   "name": "python3"
  },
  "language_info": {
   "codemirror_mode": {
    "name": "ipython",
    "version": 3
   },
   "file_extension": ".py",
   "mimetype": "text/x-python",
   "name": "python",
   "nbconvert_exporter": "python",
   "pygments_lexer": "ipython3",
   "version": "3.10.9"
  },
  "latex_envs": {
   "LaTeX_envs_menu_present": true,
   "autoclose": false,
   "autocomplete": true,
   "bibliofile": "biblio.bib",
   "cite_by": "apalike",
   "current_citInitial": 1,
   "eqLabelWithNumbers": true,
   "eqNumInitial": 1,
   "hotkeys": {
    "equation": "Ctrl-E",
    "itemize": "Ctrl-I"
   },
   "labels_anchors": false,
   "latex_user_defs": false,
   "report_style_numbering": false,
   "user_envs_cfg": false
  }
 },
 "nbformat": 4,
 "nbformat_minor": 5
}
