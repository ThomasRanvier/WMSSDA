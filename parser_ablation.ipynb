{
 "cells": [
  {
   "cell_type": "code",
   "execution_count": 6,
   "id": "3e67ec3b",
   "metadata": {
    "ExecuteTime": {
     "end_time": "2023-01-20T14:44:28.887795Z",
     "start_time": "2023-01-20T14:44:28.595506Z"
    }
   },
   "outputs": [],
   "source": [
    "import os\n",
    "import pickle\n",
    "import numpy as np"
   ]
  },
  {
   "cell_type": "code",
   "execution_count": 9,
   "id": "303559ef",
   "metadata": {
    "ExecuteTime": {
     "end_time": "2023-01-20T14:47:11.520354Z",
     "start_time": "2023-01-20T14:47:11.504162Z"
    }
   },
   "outputs": [],
   "source": [
    "methods = [\n",
    "    'WMSSDA-A',\n",
    "    'WMSSDA-B',\n",
    "    'WMSSDA-C',\n",
    "    'WMSSDA-D',\n",
    "    'WMSSDA-E',\n",
    "    'WMSSDA',\n",
    "]\n",
    "\n",
    "clean_metrics = {\n",
    "    'bal_acc': 'bACC',\n",
    "    'auc': 'AUC',\n",
    "    'f1': 'F1',\n",
    "}\n",
    "\n",
    "dataset = 'ABLATION'\n",
    "\n",
    "runs = 5\n",
    "\n",
    "clean_domains = {\n",
    "    'mnist': 'MNIST',\n",
    "    'mnistm': 'MNIST-M',\n",
    "    'svhn': 'SVHN',\n",
    "    'syn': 'SYN',\n",
    "    'usps': 'USPS'\n",
    "}\n",
    "batch_size = 128\n",
    "epochs = 150\n",
    "py = ''"
   ]
  },
  {
   "cell_type": "code",
   "execution_count": 11,
   "id": "cb9bcb4c",
   "metadata": {
    "ExecuteTime": {
     "end_time": "2023-01-20T14:47:12.068121Z",
     "start_time": "2023-01-20T14:47:11.912572Z"
    }
   },
   "outputs": [
    {
     "name": "stdout",
     "output_type": "stream",
     "text": [
      "\\hline\n",
      "Method & Metric & \\multicolumn{2}{l|}{MNIST} & \\multicolumn{2}{l|}{MNIST-M} & \\multicolumn{2}{l|}{SVHN} & \\multicolumn{2}{l|}{SYN} & \\multicolumn{2}{l||}{USPS} & \\multicolumn{2}{l|}{Avg} \\\\\n",
      "\\hline\n",
      "\\multirow{3}{*}{WMSSDA-A} & bACC & $94.95 \\pm 0.58$ & & $72.02 \\pm 1.24$ & & $67.69 \\pm 2.28$ & & $80.94 \\pm 0.49$ & & $96.57 \\pm 0.22$ & & $82.43$ & \\\\\n",
      "& AUC & $.9985 \\pm .0001$ & & $.9620 \\pm .0024$ & & $.9429 \\pm .0054$ & & $.9783 \\pm .0012$ & & $.9989 \\pm .0002$ & & $.9761$ & \\\\\n",
      "& F1 & $94.89 \\pm 0.61$ & & $71.20 \\pm 1.35$ & & $65.64 \\pm 2.70$ & & $80.63 \\pm 0.53$ & & $96.83 \\pm 0.19$ & & $81.84$ & \\\\\n",
      "\\hline\n",
      "\\multirow{3}{*}{WMSSDA-B} & bACC & $93.77 \\pm 0.90$ & & $74.62 \\pm 1.50$ & & $66.34 \\pm 2.24$ & & $79.72 \\pm 1.20$ & & $95.89 \\pm 0.35$ & & $82.07$ & \\\\\n",
      "& AUC & $.9980 \\pm .0003$ & & $.9721 \\pm .0021$ & & $.9414 \\pm .0048$ & & $.9805 \\pm .0013$ & & $.9982 \\pm .0005$ & & $.9781$ & \\\\\n",
      "& F1 & $93.71 \\pm 0.92$ & & $73.79 \\pm 1.72$ & & $62.83 \\pm 2.40$ & & $79.48 \\pm 1.18$ & & $96.06 \\pm 0.47$ & & $81.17$ & \\\\\n",
      "\\hline\n",
      "\\multirow{3}{*}{WMSSDA-C} & bACC & $93.95 \\pm 0.61$ & & $73.52 \\pm 1.32$ & & $69.61 \\pm 1.60$ & & $81.58 \\pm 0.95$ & & $96.60 \\pm 0.16$ & & $83.05$ & \\\\\n",
      "& AUC & $.9982 \\pm .0002$ & & $.9709 \\pm .0017$ & & $.9482 \\pm .0049$ & & $.9813 \\pm .0014$ & & $.9984 \\pm .0004$ & & $.9794$ & \\\\\n",
      "& F1 & $93.79 \\pm 0.71$ & & $72.98 \\pm 1.58$ & & $67.29 \\pm 2.87$ & & $81.41 \\pm 0.99$ & & $96.73 \\pm 0.11$ & & $82.44$ & \\\\\n",
      "\\hline\n",
      "\\multirow{3}{*}{WMSSDA-D} & bACC & $95.01 \\pm 0.46$ & & $74.60 \\pm 1.33$ & & $69.27 \\pm 2.05$ & & $81.87 \\pm 1.42$ & & $96.28 \\pm 0.21$ & & $83.41$ & \\\\\n",
      "& AUC & $.9988 \\pm .0002$ & & $.9736 \\pm .0025$ & & $.9505 \\pm .0035$ & & $.9828 \\pm .0019$ & & $.9987 \\pm .0003$ & & $.9809$ & \\\\\n",
      "& F1 & $94.93 \\pm 0.50$ & & $74.19 \\pm 1.40$ & & $67.16 \\pm 2.34$ & & $81.70 \\pm 1.43$ & & $96.38 \\pm 0.14$ & & $82.87$ & \\\\\n",
      "\\hline\n",
      "\\multirow{3}{*}{WMSSDA-E} & bACC & $95.16 \\pm 0.25$ & & $74.94 \\pm 0.76$ & & $69.20 \\pm 1.17$ & & $82.60 \\pm 0.46$ & & $96.60 \\pm 0.28$ & & $83.70$ & \\\\\n",
      "& AUC & $\\mathbf{.9989 \\pm .0002}$ & & $.9737 \\pm .0024$ & & $.9501 \\pm .0016$ & & $.9833 \\pm .0008$ & & $.9987 \\pm .0003$ & & $.9809$ & \\\\\n",
      "& F1 & $95.11 \\pm 0.26$ & & $74.50 \\pm 0.88$ & & $67.11 \\pm 1.56$ & & $82.45 \\pm 0.43$ & & $96.65 \\pm 0.30$ & & $83.17$ & \\\\\n",
      "\\hline\n",
      "\\multirow{3}{*}{WMSSDA} & bACC & $\\mathbf{95.30 \\pm 0.21}$ & & $\\mathbf{75.05 \\pm 1.06}$ & & $\\mathbf{70.50 \\pm 1.21}$ & & $\\mathbf{82.85 \\pm 0.49}$ & & $\\mathbf{96.77 \\pm 0.30}$ & & $\\mathbf{84.10}$ & \\\\\n",
      "& AUC & $.9988 \\pm .0001$ & & $\\mathbf{.9737 \\pm .0017}$ & & $\\mathbf{.9519 \\pm .0014}$ & & $\\mathbf{.9838 \\pm .0005}$ & & $\\mathbf{.9992 \\pm .0001}$ & & $\\mathbf{.9815}$ & \\\\\n",
      "& F1 & $\\mathbf{95.25 \\pm 0.21}$ & & $\\mathbf{74.62 \\pm 1.17}$ & & $\\mathbf{68.17 \\pm 2.01}$ & & $\\mathbf{82.70 \\pm 0.49}$ & & $\\mathbf{96.90 \\pm 0.29}$ & & $\\mathbf{83.53}$ & \\\\\n",
      "\\hline\n"
     ]
    }
   ],
   "source": [
    "end_line = ' \\\\\\\\'\n",
    "print('\\hline')\n",
    "line = 'Method & Metric &'\n",
    "for i, (domain, clean_domain) in enumerate(clean_domains.items()):\n",
    "    line += f' \\multicolumn{{2}}{{l{\"||\" if i == len(clean_domains) - 1 else \"|\"}}}{{{clean_domain}}} &'\n",
    "line += f' \\multicolumn{{2}}{{l|}}{{Avg}}'\n",
    "print(line + end_line)\n",
    "print('\\hline')\n",
    "\n",
    "bests = {}\n",
    "for domain in list(clean_domains.keys()) + ['avg']:\n",
    "    bests[domain] = {}\n",
    "    for metric in clean_metrics.keys():\n",
    "        bests[domain][metric] = 0\n",
    "\n",
    "for i, method in enumerate(methods):\n",
    "    for metric, clean_metric in clean_metrics.items():\n",
    "        filename = f'results/{dataset}_{py}{method.replace(\"-\", \"_\")}_r{runs}_e{epochs}_b{batch_size}.pickle'\n",
    "        if os.path.exists(filename):\n",
    "            metrics = pickle.load(open(filename, 'rb'))\n",
    "            avg = []\n",
    "            for domain, clean_domain in clean_domains.items():\n",
    "                metric_values = metrics[domain][metric]\n",
    "                avg.extend(metric_values)\n",
    "                if np.mean(metric_values) >= bests[domain][metric]:\n",
    "                    bests[domain][metric] = np.mean(metric_values)\n",
    "            if np.mean(avg) >= bests['avg'][metric]:\n",
    "                bests['avg'][metric] = np.mean(avg)\n",
    "\n",
    "for i, method in enumerate(methods):\n",
    "    line = f'\\\\multirow{{{len(clean_metrics)}}}{{*}}{{{method}}} &'\n",
    "    for metric, clean_metric in clean_metrics.items():\n",
    "        line += f' {clean_metric} &'\n",
    "        filename = f'results/{dataset}_{py}{method.replace(\"-\", \"_\")}_r{runs}_e{epochs}_b{batch_size}.pickle'\n",
    "        if os.path.exists(filename):\n",
    "            metrics = pickle.load(open(filename, 'rb'))\n",
    "            avg = []\n",
    "            for domain, clean_domain in clean_domains.items():\n",
    "                metric_values = metrics[domain][metric]\n",
    "                avg.extend(metric_values)\n",
    "                best = np.mean(metric_values) == bests[domain][metric]\n",
    "                line += ' $' + ('\\\\mathbf{' if best else '')\n",
    "                if metric == 'auc':\n",
    "                    mean = f'{np.mean(metric_values)/100.:.04f}'.lstrip('0')\n",
    "                    std = f'{np.std(metric_values)/100.:.04f}'.lstrip('0')\n",
    "                    line += f'{mean} \\pm {std}'\n",
    "                else:\n",
    "                    line += f'{np.mean(metric_values):.02f} \\pm {np.std(metric_values):.02f}'\n",
    "                line += ('}' if best else '') + '$ &'\n",
    "                line += ' &'\n",
    "            best = np.mean(avg) == bests['avg'][metric]\n",
    "            line += ' $' + ('\\\\mathbf{' if best else '')\n",
    "            if metric == 'auc':\n",
    "                mean = f'{np.mean(avg)/100.:.04f}'.lstrip('0')\n",
    "                line += f'{mean}'\n",
    "            else:\n",
    "                line += f'{np.mean(avg):.02f}'\n",
    "            line += ('}' if best else '') + '$ &'\n",
    "        else:\n",
    "            line += ' &' * len(clean_domains)\n",
    "        print(line + end_line)\n",
    "        line = '&'\n",
    "    if i < len(methods) - 1:\n",
    "        print('\\hline')\n",
    "    line = ''\n",
    "print('\\hline')"
   ]
  },
  {
   "cell_type": "code",
   "execution_count": null,
   "id": "5e6cb34d-0cb7-4068-871f-28142ac2d698",
   "metadata": {},
   "outputs": [],
   "source": [
    " "
   ]
  }
 ],
 "metadata": {
  "kernelspec": {
   "display_name": "Python 3 (ipykernel)",
   "language": "python",
   "name": "python3"
  },
  "language_info": {
   "codemirror_mode": {
    "name": "ipython",
    "version": 3
   },
   "file_extension": ".py",
   "mimetype": "text/x-python",
   "name": "python",
   "nbconvert_exporter": "python",
   "pygments_lexer": "ipython3",
   "version": "3.10.9"
  },
  "latex_envs": {
   "LaTeX_envs_menu_present": true,
   "autoclose": false,
   "autocomplete": true,
   "bibliofile": "biblio.bib",
   "cite_by": "apalike",
   "current_citInitial": 1,
   "eqLabelWithNumbers": true,
   "eqNumInitial": 1,
   "hotkeys": {
    "equation": "Ctrl-E",
    "itemize": "Ctrl-I"
   },
   "labels_anchors": false,
   "latex_user_defs": false,
   "report_style_numbering": false,
   "user_envs_cfg": false
  }
 },
 "nbformat": 4,
 "nbformat_minor": 5
}
