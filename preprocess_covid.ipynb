{
 "cells": [
  {
   "cell_type": "code",
   "execution_count": 1,
   "id": "44bdc380",
   "metadata": {
    "ExecuteTime": {
     "end_time": "2023-01-06T08:56:08.338366Z",
     "start_time": "2023-01-06T08:56:08.332725Z"
    }
   },
   "outputs": [],
   "source": [
    "## using pre-processing from https://www.kaggle.com/code/yasirakyzl/covid-19-ml-model-90-accuracy"
   ]
  },
  {
   "cell_type": "code",
   "execution_count": 1,
   "id": "793aacfd",
   "metadata": {
    "ExecuteTime": {
     "end_time": "2023-03-16T13:59:57.389738Z",
     "start_time": "2023-03-16T13:59:57.042839Z"
    }
   },
   "outputs": [],
   "source": [
    "import pandas as pd\n",
    "import numpy as np\n",
    "import pickle"
   ]
  },
  {
   "cell_type": "code",
   "execution_count": 2,
   "id": "fe91a7a0",
   "metadata": {
    "ExecuteTime": {
     "end_time": "2023-03-16T13:59:57.395970Z",
     "start_time": "2023-03-16T13:59:57.392544Z"
    }
   },
   "outputs": [],
   "source": [
    "DATA_FOLDER = 'data/covid/'"
   ]
  },
  {
   "cell_type": "code",
   "execution_count": 3,
   "id": "d0dfac72",
   "metadata": {
    "ExecuteTime": {
     "end_time": "2023-03-16T13:59:58.676969Z",
     "start_time": "2023-03-16T13:59:57.595849Z"
    }
   },
   "outputs": [],
   "source": [
    "df = pd.read_csv(DATA_FOLDER + 'covid_data.csv')"
   ]
  },
  {
   "cell_type": "code",
   "execution_count": 4,
   "id": "a3c3eb8b",
   "metadata": {
    "ExecuteTime": {
     "end_time": "2023-03-16T14:00:00.302286Z",
     "start_time": "2023-03-16T13:59:58.679339Z"
    }
   },
   "outputs": [
    {
     "name": "stdout",
     "output_type": "stream",
     "text": [
      "USMER =>\t 2\n",
      "MEDICAL_UNIT =>\t 13\n",
      "SEX =>\t 2\n",
      "PATIENT_TYPE =>\t 2\n",
      "PNEUMONIA =>\t 2\n",
      "AGE =>\t 121\n",
      "PREGNANT =>\t 2\n",
      "DIABETES =>\t 2\n",
      "COPD =>\t 2\n",
      "ASTHMA =>\t 2\n",
      "INMSUPR =>\t 2\n",
      "HIPERTENSION =>\t 2\n",
      "OTHER_DISEASE =>\t 2\n",
      "CARDIOVASCULAR =>\t 2\n",
      "OBESITY =>\t 2\n",
      "RENAL_CHRONIC =>\t 2\n",
      "TOBACCO =>\t 2\n",
      "CLASIFFICATION_FINAL =>\t 7\n",
      "DEATH =>\t 2\n"
     ]
    }
   ],
   "source": [
    "df = df[(df.PNEUMONIA == 1) | (df.PNEUMONIA == 2)]\n",
    "df = df[(df.DIABETES == 1) | (df.DIABETES == 2)]\n",
    "df = df[(df.COPD == 1) | (df.COPD == 2)]\n",
    "df = df[(df.ASTHMA == 1) | (df.ASTHMA == 2)]\n",
    "df = df[(df.INMSUPR == 1) | (df.INMSUPR == 2)]\n",
    "df = df[(df.HIPERTENSION == 1) | (df.HIPERTENSION == 2)]\n",
    "df = df[(df.OTHER_DISEASE == 1) | (df.OTHER_DISEASE == 2)]\n",
    "df = df[(df.CARDIOVASCULAR == 1) | (df.CARDIOVASCULAR == 2)]\n",
    "df = df[(df.OBESITY == 1) | (df.OBESITY == 2)]\n",
    "df = df[(df.RENAL_CHRONIC == 1) | (df.RENAL_CHRONIC == 2)]\n",
    "df = df[(df.TOBACCO == 1) | (df.TOBACCO == 2)]\n",
    "df['DEATH'] = [1 if each=='9999-99-99' else 0 for each in df.DATE_DIED]\n",
    "df.PREGNANT = df.PREGNANT.replace(97,2)\n",
    "df = df[(df.PREGNANT == 1) | (df.PREGNANT == 2)]\n",
    "df.drop(columns=['INTUBED','ICU','DATE_DIED'], inplace=True)\n",
    "for i in df.columns:\n",
    "    print(i,\"=>\\t\",len(df[i].unique()))"
   ]
  },
  {
   "cell_type": "markdown",
   "id": "8486020a",
   "metadata": {},
   "source": [
    "## Split by domains (MEDICAL_UNIT)"
   ]
  },
  {
   "cell_type": "code",
   "execution_count": 6,
   "id": "ac3bc9bc",
   "metadata": {
    "ExecuteTime": {
     "end_time": "2023-01-06T08:56:16.000211Z",
     "start_time": "2023-01-06T08:56:15.995941Z"
    }
   },
   "outputs": [],
   "source": [
    "domain_col = 'MEDICAL_UNIT'\n",
    "label_col = 'DEATH'"
   ]
  },
  {
   "cell_type": "code",
   "execution_count": 7,
   "id": "9ef365af",
   "metadata": {
    "ExecuteTime": {
     "end_time": "2023-01-06T08:56:16.754551Z",
     "start_time": "2023-01-06T08:56:16.002037Z"
    }
   },
   "outputs": [
    {
     "data": {
      "text/plain": [
       "(array(['1', '10', '11', '12', '13', '2', '3', '4', '5', '6', '7', '8',\n",
       "        '9'], dtype='<U21'),\n",
       " array([   151,   7538,   5553, 589209,    811,    159,  18646, 306967,\n",
       "          7049,  37791,    870,  10091,  37142]))"
      ]
     },
     "execution_count": 7,
     "metadata": {},
     "output_type": "execute_result"
    }
   ],
   "source": [
    "np.unique(np.array(df[domain_col]).astype(str), return_counts=True)"
   ]
  },
  {
   "cell_type": "code",
   "execution_count": 8,
   "id": "0587408f",
   "metadata": {
    "ExecuteTime": {
     "end_time": "2023-01-06T08:56:16.760513Z",
     "start_time": "2023-01-06T08:56:16.756493Z"
    }
   },
   "outputs": [],
   "source": [
    "clean_domains = {\n",
    "    3: '1',\n",
    "    4: '2',\n",
    "    6: '3',\n",
    "    8: '4',\n",
    "    12: '5',\n",
    "}"
   ]
  },
  {
   "cell_type": "code",
   "execution_count": 9,
   "id": "d623292b",
   "metadata": {
    "ExecuteTime": {
     "end_time": "2023-01-06T08:56:17.391035Z",
     "start_time": "2023-01-06T08:56:16.762302Z"
    }
   },
   "outputs": [],
   "source": [
    "x_train, x_test, y_train, y_test = {}, {}, {}, {}\n",
    "## Shuffle whole dataframe before splitting between train and test data afterwards\n",
    "df = df.sample(frac=1).reset_index(drop=True)\n",
    "for domain, clean_domain in clean_domains.items():\n",
    "    domain_train_data = df.loc[df[domain_col] == domain].drop(domain_col, axis=1).head(800)\n",
    "    domain_test_data = df.loc[df[domain_col] == domain].drop(domain_col, axis=1).tail(2000)\n",
    "    domain_train_labels = domain_train_data[label_col]\n",
    "    domain_test_labels = domain_test_data[label_col]\n",
    "    domain_train_data = domain_train_data.drop(label_col, axis=1)\n",
    "    domain_test_data = domain_test_data.drop(label_col, axis=1)\n",
    "    x_train[clean_domain] = np.array(domain_train_data).astype(float)\n",
    "    x_test[clean_domain] = np.array(domain_test_data).astype(float)\n",
    "    ## Put min of each column at 0\n",
    "    for col in range(x_train[clean_domain].shape[-1]):\n",
    "        x_train[clean_domain][:, col] -= np.min(x_train[clean_domain][:, col])\n",
    "        x_test[clean_domain][:, col] -= np.min(x_test[clean_domain][:, col])\n",
    "    y_train[clean_domain], y_test[clean_domain] = np.array(domain_train_labels), np.array(domain_test_labels)"
   ]
  },
  {
   "cell_type": "code",
   "execution_count": 10,
   "id": "3299090b",
   "metadata": {
    "ExecuteTime": {
     "end_time": "2023-01-06T08:56:17.400354Z",
     "start_time": "2023-01-06T08:56:17.393359Z"
    }
   },
   "outputs": [],
   "source": [
    "with open(DATA_FOLDER + 'preprocessed_covid.pickle', 'wb') as handle:\n",
    "    pickle.dump((x_train, x_test, y_train, y_test), handle, protocol=pickle.HIGHEST_PROTOCOL)"
   ]
  }
 ],
 "metadata": {
  "kernelspec": {
   "display_name": "Python 3 (ipykernel)",
   "language": "python",
   "name": "python3"
  },
  "language_info": {
   "codemirror_mode": {
    "name": "ipython",
    "version": 3
   },
   "file_extension": ".py",
   "mimetype": "text/x-python",
   "name": "python",
   "nbconvert_exporter": "python",
   "pygments_lexer": "ipython3",
   "version": "3.10.9"
  },
  "latex_envs": {
   "LaTeX_envs_menu_present": true,
   "autoclose": false,
   "autocomplete": true,
   "bibliofile": "biblio.bib",
   "cite_by": "apalike",
   "current_citInitial": 1,
   "eqLabelWithNumbers": true,
   "eqNumInitial": 1,
   "hotkeys": {
    "equation": "Ctrl-E",
    "itemize": "Ctrl-I"
   },
   "labels_anchors": false,
   "latex_user_defs": false,
   "report_style_numbering": false,
   "user_envs_cfg": false
  }
 },
 "nbformat": 4,
 "nbformat_minor": 5
}
